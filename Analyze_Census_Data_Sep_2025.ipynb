{
 "cells": [
  {
   "cell_type": "markdown",
   "id": "aff9b6ae-6703-4fb6-80fa-dfd1b867be57",
   "metadata": {},
   "source": [
    "# Analyze Census Data with AI"
   ]
  },
  {
   "cell_type": "markdown",
   "id": "601ca479-bbd4-444e-a499-2932efa7e31f",
   "metadata": {},
   "source": [
    "- Use psycopg2 to load the data from the database into Python. \n",
    "- Use SQL filter the data to minimize the data transfer. \n",
    "- Use pandas and matplotlib to rocess and visualize the loaded data.\n",
    "- Use OpenAI to assist coding."
   ]
  },
  {
   "cell_type": "markdown",
   "id": "8f473447-a87c-48d8-babb-68fb12254b0e",
   "metadata": {
    "tags": []
   },
   "source": [
    "### Secret Manager Function"
   ]
  },
  {
   "cell_type": "code",
   "execution_count": null,
   "id": "2f22dbcc-8e31-4c9c-88cb-1196603d7e6e",
   "metadata": {
    "tags": []
   },
   "outputs": [],
   "source": [
    "import boto3\n",
    "from botocore.exceptions import ClientError\n",
    "import json\n",
    "\n",
    "def get_secret(secret_name):\n",
    "    region_name = \"us-east-1\"\n",
    "\n",
    "    # Create a Secrets Manager client\n",
    "    session = boto3.session.Session()\n",
    "    client = session.client(\n",
    "        service_name='secretsmanager',\n",
    "        region_name=region_name\n",
    "    )\n",
    "\n",
    "    try:\n",
    "        get_secret_value_response = client.get_secret_value(\n",
    "            SecretId=secret_name\n",
    "        )\n",
    "    except ClientError as e:\n",
    "        raise e\n",
    "\n",
    "    secret = get_secret_value_response['SecretString']\n",
    "    \n",
    "    return json.loads(secret)"
   ]
  },
  {
   "cell_type": "markdown",
   "id": "51d21fe4-83df-427b-a1f7-025104f50bcc",
   "metadata": {},
   "source": [
    "### Connect to Database"
   ]
  },
  {
   "cell_type": "code",
   "execution_count": null,
   "id": "13292b12-4db4-4ad9-ac4c-e6c7ad2175f0",
   "metadata": {
    "tags": []
   },
   "outputs": [],
   "source": [
    "import psycopg2\n",
    "\n",
    "conn = psycopg2.connect(host=get_secret('postgresql')['host'],\n",
    "                      user=get_secret('postgresql')['username'],\n",
    "                      password = get_secret('postgresql')['password'],\n",
    "                      dbname=get_secret('postgresql')['engine'])\n",
    "\n",
    "cur = conn.cursor()"
   ]
  },
  {
   "cell_type": "markdown",
   "id": "8dc90662-a406-4a38-9e3b-d96afb850e29",
   "metadata": {},
   "source": [
    "## Modify and Query Tables with Cursor"
   ]
  },
  {
   "cell_type": "markdown",
   "id": "d2b96d3a-c564-4db1-8958-e402d664d9f6",
   "metadata": {},
   "source": [
    "###  Insert data\n",
    "Insert a fake state with fips = 100"
   ]
  },
  {
   "cell_type": "code",
   "execution_count": null,
   "id": "bc8dd36d-bf7c-4768-a288-1ffd961b4376",
   "metadata": {},
   "outputs": [],
   "source": [
    "fips = '100'\n",
    "name = 'fake_state'\n",
    "\n",
    "sql_insert = f\"\"\" insert into name(fips,name)\n",
    "                    values('{fips}','{name}')\"\"\"\n",
    "print(sql_insert)"
   ]
  },
  {
   "cell_type": "code",
   "execution_count": null,
   "id": "ea9617c9-cf34-47d1-ac1d-dc372e2b9dda",
   "metadata": {},
   "outputs": [],
   "source": [
    "cur.execute(sql_insert)"
   ]
  },
  {
   "cell_type": "code",
   "execution_count": null,
   "id": "e2cb43cd-2de4-4225-8e77-cfe7c7862dca",
   "metadata": {},
   "outputs": [],
   "source": [
    "conn.commit()"
   ]
  },
  {
   "cell_type": "markdown",
   "id": "b07684d2-a4b4-4d27-bb85-f9c2c6b205b5",
   "metadata": {},
   "source": [
    "### Query data\n",
    "Find the fake state"
   ]
  },
  {
   "cell_type": "code",
   "execution_count": null,
   "id": "aefedc4e-fb03-4307-a95d-aa68a88eb2a2",
   "metadata": {},
   "outputs": [],
   "source": [
    "sql_query = f\"\"\"select * from name where fips = '{fips}'\"\"\"\n"
   ]
  },
  {
   "cell_type": "code",
   "execution_count": null,
   "id": "1e828314-fa5e-4954-9f2b-9f370d1bb29c",
   "metadata": {},
   "outputs": [],
   "source": [
    "cur.execute(sql_query)\n",
    "for row in cur.fetchall():\n",
    "    print(row)"
   ]
  },
  {
   "cell_type": "markdown",
   "id": "a2320585-28d9-4f8e-9f6d-e1929d4d832b",
   "metadata": {},
   "source": [
    "## Rollback\n",
    "When errors occur, the cursor will be locked."
   ]
  },
  {
   "cell_type": "markdown",
   "id": "bc340f3d-9ec2-4fc6-968d-e81f944931e6",
   "metadata": {},
   "source": [
    "The following code will generate an error"
   ]
  },
  {
   "cell_type": "code",
   "execution_count": null,
   "id": "96dba3b1-2220-4e9e-ac34-837deaea662c",
   "metadata": {},
   "outputs": [],
   "source": [
    "cur.execute(sql_insert)"
   ]
  },
  {
   "cell_type": "markdown",
   "id": "a04a1d15-a9b3-4cef-a230-32674e1afb0a",
   "metadata": {},
   "source": [
    "And the cursor is now locked."
   ]
  },
  {
   "cell_type": "code",
   "execution_count": null,
   "id": "93c66001-fc56-45f1-a042-789cd09b513d",
   "metadata": {},
   "outputs": [],
   "source": [
    "cur.execute(sql_query)\n",
    "for row in cur.fetchall():\n",
    "    print(row)"
   ]
  },
  {
   "cell_type": "markdown",
   "id": "e69ef166-0a2d-43bb-a6f3-a105f699ce10",
   "metadata": {},
   "source": [
    "Unlock the cursor by using rollback"
   ]
  },
  {
   "cell_type": "code",
   "execution_count": null,
   "id": "34fdd92f-2457-4d28-b745-ba62743b1851",
   "metadata": {},
   "outputs": [],
   "source": [
    "conn.rollback()"
   ]
  },
  {
   "cell_type": "markdown",
   "id": "bb35d29d-ba1d-4b3d-afa9-6311031c65d2",
   "metadata": {},
   "source": [
    "Cursor is now working"
   ]
  },
  {
   "cell_type": "code",
   "execution_count": null,
   "id": "f33098a5-a0fb-410a-a6d0-266cd49f37ba",
   "metadata": {},
   "outputs": [],
   "source": [
    "cur.execute(sql_query)\n",
    "for row in cur.fetchall():\n",
    "    print(row)"
   ]
  },
  {
   "cell_type": "markdown",
   "id": "b845e93e-48b0-42db-973c-d867979e4edb",
   "metadata": {},
   "source": [
    "Delete the fake state"
   ]
  },
  {
   "cell_type": "code",
   "execution_count": null,
   "id": "12e3d5ed-be34-400b-b51b-c7f3fe7ffd54",
   "metadata": {},
   "outputs": [],
   "source": [
    "sql_delete = f\"\"\"\n",
    "            delete from name\n",
    "            where fips = '{fips}'\n",
    "            \"\"\"\n",
    "print(sql_delete)"
   ]
  },
  {
   "cell_type": "code",
   "execution_count": null,
   "id": "ba88a930-6e72-4093-9c82-b5e3f545c5dd",
   "metadata": {},
   "outputs": [],
   "source": [
    "cur.execute(sql_delete)"
   ]
  },
  {
   "cell_type": "code",
   "execution_count": null,
   "id": "f850d7c1-6021-4f0a-ae60-95c022efb615",
   "metadata": {},
   "outputs": [],
   "source": [
    "conn.commit()"
   ]
  },
  {
   "cell_type": "markdown",
   "id": "2fbdccf3-43d8-4019-bf85-771a0661ce96",
   "metadata": {},
   "source": [
    "The fake state is now deleted. "
   ]
  },
  {
   "cell_type": "code",
   "execution_count": null,
   "id": "d42acbb7-8e95-40a6-a80d-77fd05f05c0c",
   "metadata": {},
   "outputs": [],
   "source": [
    "cur.execute(sql_query)\n",
    "for row in cur.fetchall():\n",
    "    print(row)"
   ]
  },
  {
   "cell_type": "markdown",
   "id": "dfa782c8-5a06-4072-9eee-dedf22ed3a06",
   "metadata": {},
   "source": [
    "## Simple Data Analytics"
   ]
  },
  {
   "cell_type": "markdown",
   "id": "20c02a7b-5409-4c53-b2e7-72e47fd82237",
   "metadata": {},
   "source": [
    "### Display the VA Income Data Over Time"
   ]
  },
  {
   "cell_type": "markdown",
   "id": "25014933-eac9-46b7-a290-2b988590ec5e",
   "metadata": {},
   "source": [
    "Define the SQL command. We filter the data based on the ```fips``` as it is a primary key."
   ]
  },
  {
   "cell_type": "code",
   "execution_count": null,
   "id": "c04ab09d-f1a9-40e3-b72f-762d7d8ded06",
   "metadata": {
    "tags": []
   },
   "outputs": [],
   "source": [
    "sql = \"\"\"\n",
    "     select * from name_income\n",
    "     where fips = '51'\n",
    "     \"\"\""
   ]
  },
  {
   "cell_type": "markdown",
   "id": "96785416-0863-4a87-946a-4ba4067cf443",
   "metadata": {},
   "source": [
    "Use pandas to load the data and display the top 5 rows"
   ]
  },
  {
   "cell_type": "code",
   "execution_count": null,
   "id": "606a0319-54ed-4c23-b49d-ca6dc1f3306b",
   "metadata": {
    "tags": []
   },
   "outputs": [],
   "source": [
    "import pandas as pd\n",
    "\n",
    "va_df = pd.read_sql(sql, con=conn)\n",
    "va_df.head() #show the top 5 rows"
   ]
  },
  {
   "cell_type": "markdown",
   "id": "f8608c8e-7199-4a9a-99c8-ca6aa4178063",
   "metadata": {},
   "source": [
    "Use a line chart to show the VA income over years."
   ]
  },
  {
   "cell_type": "code",
   "execution_count": null,
   "id": "c5b451dd-50c4-4a0b-bf8d-1e70a59e811f",
   "metadata": {
    "tags": []
   },
   "outputs": [],
   "source": [
    "va_df.plot(x='year', y='income')"
   ]
  },
  {
   "cell_type": "markdown",
   "id": "6c38a2f2-3334-40ac-84e8-4ad1d89664b2",
   "metadata": {},
   "source": [
    "## Use AI to Assistant Data Analytics"
   ]
  },
  {
   "cell_type": "markdown",
   "id": "49335a88-fe15-4c4e-95e0-bca13faea7e2",
   "metadata": {},
   "source": [
    "### Install Python Packages\n",
    "\n",
    "- jupyter-ai-magics: the JupyterLab AI to call Generative AI models"
   ]
  },
  {
   "cell_type": "code",
   "execution_count": null,
   "id": "32872c74-e07c-455f-adf4-6f72978393d6",
   "metadata": {},
   "outputs": [],
   "source": [
    "! pip install jupyter-ai-magics[all] -q"
   ]
  },
  {
   "cell_type": "code",
   "execution_count": null,
   "id": "21fbe2d3-23b8-4244-97e6-4a4a6c0b3b67",
   "metadata": {
    "tags": []
   },
   "outputs": [],
   "source": [
    "import warnings\n",
    "warnings.simplefilter('ignore')"
   ]
  },
  {
   "cell_type": "markdown",
   "id": "58aafcd5-73fb-4e72-a79f-fb8329efb0cf",
   "metadata": {},
   "source": [
    "### Store OpenAI Key"
   ]
  },
  {
   "cell_type": "code",
   "execution_count": null,
   "id": "0c2facd7-163e-453d-b0a5-706c3a21f2a5",
   "metadata": {
    "tags": []
   },
   "outputs": [],
   "source": [
    "import os\n",
    "os.environ[\"OPENAI_API_KEY\"] = get_secret('openai')['api_key']"
   ]
  },
  {
   "cell_type": "markdown",
   "id": "edda4bee-3ebf-4925-a6d3-cb59cff9ed23",
   "metadata": {},
   "source": [
    "### Load the Jupyter AI Magic Commands"
   ]
  },
  {
   "cell_type": "code",
   "execution_count": null,
   "id": "86f65b5d-af62-47c1-b969-98f3b43b791c",
   "metadata": {
    "tags": []
   },
   "outputs": [],
   "source": [
    "%load_ext jupyter_ai_magics"
   ]
  },
  {
   "cell_type": "markdown",
   "id": "11c1125a-98b0-4aa0-90ae-425464454d76",
   "metadata": {},
   "source": [
    "Optional: Check the available AI models"
   ]
  },
  {
   "cell_type": "markdown",
   "id": "baa3f08f-ee34-4e73-a135-5f33d9bd8b2f",
   "metadata": {
    "tags": []
   },
   "source": [
    "`%ai list`"
   ]
  },
  {
   "cell_type": "markdown",
   "id": "5eb268d6-1d36-4b7a-bc16-91ef75a38c61",
   "metadata": {},
   "source": [
    "### Explain Existing Codes"
   ]
  },
  {
   "cell_type": "code",
   "execution_count": null,
   "id": "13ed4fb7-df5c-4ab2-b216-d4a617918fd1",
   "metadata": {
    "tags": []
   },
   "outputs": [],
   "source": [
    "%%ai gpt4\n",
    "What is included in the {va_df}"
   ]
  },
  {
   "cell_type": "markdown",
   "id": "8c6dc283-2d38-4abb-b55c-a8ceb4241ff3",
   "metadata": {},
   "source": [
    "Optional: explain a code in a specific cell with cell number"
   ]
  },
  {
   "cell_type": "markdown",
   "id": "89f71e73-ccf2-4be3-bf91-80916726fe32",
   "metadata": {
    "tags": []
   },
   "source": [
    "`%%ai gpt4`\n",
    "\n",
    "`explain the code in {In[#]} `"
   ]
  },
  {
   "cell_type": "markdown",
   "id": "9447d182-3542-4069-aaa3-2ef681eeb988",
   "metadata": {
    "tags": []
   },
   "source": [
    "### Create New Codes with AI"
   ]
  },
  {
   "cell_type": "code",
   "execution_count": null,
   "id": "8e5cfcc9-e401-4867-ba86-978bde3a50af",
   "metadata": {},
   "outputs": [],
   "source": [
    "%%ai gpt4 -f code\n",
    "Calculate the growth rate with the data provided in {va_df}, use the va_df directly, and visualize the result on a line chart"
   ]
  },
  {
   "cell_type": "code",
   "execution_count": null,
   "id": "54a538c0-4a53-483f-9e8b-1aba9dba143f",
   "metadata": {},
   "outputs": [],
   "source": [
    "import pandas as pd\n",
    "import matplotlib.pyplot as plt\n",
    "\n",
    "# Assuming the dataframe is named as va_df\n",
    "\n",
    "va_df['growth_rate'] = va_df['income'].pct_change() * 100\n",
    "\n",
    "plt.figure(figsize=(8, 6))\n",
    "plt.plot(va_df['year'], va_df['growth_rate'], marker='o')\n",
    "plt.title('Income Growth Rate in Virginia (2005-2019)')\n",
    "plt.xlabel('Year')\n",
    "plt.ylabel('Growth Rate (%)')\n",
    "plt.grid(True)\n",
    "plt.show()"
   ]
  },
  {
   "cell_type": "markdown",
   "id": "528c1938-248a-47e0-9413-1905ff21e743",
   "metadata": {},
   "source": [
    "### A Complete Analysis with AI"
   ]
  },
  {
   "cell_type": "markdown",
   "id": "4eb2d33f-1358-45e7-a0fe-02b87bea3b1b",
   "metadata": {},
   "source": [
    "Load the data from database into Python"
   ]
  },
  {
   "cell_type": "code",
   "execution_count": null,
   "id": "d20a6183-4786-436d-91ed-fab2d16e0658",
   "metadata": {
    "tags": []
   },
   "outputs": [],
   "source": [
    "%%ai gpt4 -f code\n",
    "We have a view named name_income in an SQL database\n",
    "You don't need to redefine the connection string\n",
    "use the {conn} defined in {In[2]} to load all the recored into pandas dataframe "
   ]
  },
  {
   "cell_type": "code",
   "execution_count": null,
   "id": "b1cd6bb2-47ea-4039-8dfb-45941725b24d",
   "metadata": {},
   "outputs": [],
   "source": [
    "import pandas as pd\n",
    "\n",
    "# Execute the SQL query\n",
    "cur.execute(\"SELECT * FROM name_income\")\n",
    "\n",
    "# Fetch all the records\n",
    "rows = cur.fetchall()\n",
    "\n",
    "# Get the column names for the dataframe\n",
    "column_names = [desc[0] for desc in cur.description]\n",
    "\n",
    "# Create a pandas dataframe\n",
    "df = pd.DataFrame(rows, columns=column_names)\n",
    "\n",
    "df.head()"
   ]
  },
  {
   "cell_type": "code",
   "execution_count": null,
   "id": "7164f680-ffb6-4777-a312-5fc0e8281926",
   "metadata": {
    "tags": []
   },
   "outputs": [],
   "source": [
    "%%ai gpt4 \n",
    "What is the information in {df}"
   ]
  },
  {
   "cell_type": "code",
   "execution_count": null,
   "id": "1abfda76-8f45-401f-abf8-c4c918f00a26",
   "metadata": {
    "tags": []
   },
   "outputs": [],
   "source": [
    "%%ai gpt4 -f code\n",
    "Calculate the average year-over-year income growth rate for each state in {df} \n",
    "and create a chart to show the result"
   ]
  },
  {
   "cell_type": "code",
   "execution_count": null,
   "id": "24e3e567-afb6-4d05-a677-5544f278050d",
   "metadata": {
    "tags": []
   },
   "outputs": [],
   "source": [
    "import pandas as pd\n",
    "import matplotlib.pyplot as plt\n",
    "\n",
    "# Assuming the data is in a DataFrame named df\n",
    "df['income'] = df['income'].astype(float)\n",
    "df['year'] = df['year'].astype(int)\n",
    "\n",
    "# Group by state and calculate the average annual growth rate\n",
    "df = df.sort_values(['name', 'year'])\n",
    "df['income_growth'] = df.groupby('name')['income'].pct_change() + 1\n",
    "df = df.groupby('name')['income_growth'].agg('mean') - 1\n",
    "\n",
    "# Create a bar chart\n",
    "df.sort_values().plot(kind='barh', figsize=(10, 20), color='skyblue')\n",
    "\n",
    "plt.title('Average Year-Over-Year Income Growth Rate by State')\n",
    "plt.xlabel('Average Year-Over-Year Growth Rate')\n",
    "plt.ylabel('State')\n",
    "\n",
    "plt.show()\n",
    "'''\n",
    "This Python code first converts the 'income' and 'year' columns to float and int data types, respectively. Then it sorts the DataFrame by 'name' and 'year', calculates the year-over-year income growth rate for each state and stores the result in the 'income_growth' column. The code then calculates the average income growth rate for each state and stores the result in the same DataFrame. Finally, the code creates a horizontal bar chart with the average income growth rate on the x-axis and the state on the y-axis. The chart is sorted in ascending order of growth rate.\n",
    "'''"
   ]
  },
  {
   "cell_type": "markdown",
   "id": "6c6f5b58-41b2-4b6a-b9ed-0f4bea890aa6",
   "metadata": {},
   "source": [
    "## Close Database Connection"
   ]
  },
  {
   "cell_type": "code",
   "execution_count": null,
   "id": "d8533739-217a-40e4-aa09-b418f3812128",
   "metadata": {},
   "outputs": [],
   "source": [
    "#run the folloiwng code if the connection is not closed\n",
    "\n",
    "cur.close()\n",
    "conn.close()"
   ]
  },
  {
   "cell_type": "code",
   "execution_count": null,
   "id": "dc6d8e5e-3d60-4883-857a-ba642f488d3e",
   "metadata": {},
   "outputs": [],
   "source": []
  },
  {
   "cell_type": "code",
   "execution_count": null,
   "id": "1eb39c3f-d026-423b-9791-f48ace8becd5",
   "metadata": {},
   "outputs": [],
   "source": []
  }
 ],
 "metadata": {
  "kernelspec": {
   "display_name": "conda_python3",
   "language": "python",
   "name": "conda_python3"
  },
  "language_info": {
   "codemirror_mode": {
    "name": "ipython",
    "version": 3
   },
   "file_extension": ".py",
   "mimetype": "text/x-python",
   "name": "python",
   "nbconvert_exporter": "python",
   "pygments_lexer": "ipython3",
   "version": "3.10.18"
  }
 },
 "nbformat": 4,
 "nbformat_minor": 5
}
